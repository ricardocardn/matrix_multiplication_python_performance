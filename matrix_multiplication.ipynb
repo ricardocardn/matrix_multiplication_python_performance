{
 "cells": [
  {
   "cell_type": "markdown",
   "id": "053f3d6b",
   "metadata": {},
   "source": [
    "# **Standard Matrix Multiplication** Python Performance"
   ]
  },
  {
   "cell_type": "code",
   "execution_count": 1,
   "id": "e259c62d",
   "metadata": {},
   "outputs": [],
   "source": [
    "import random\n",
    "from time import *\n",
    "\n",
    "import psutil\n",
    "import threading\n",
    "from queue import Queue\n",
    "\n",
    "import numpy as np\n",
    "import matplotlib.pyplot as plt\n",
    "\n",
    "import cProfile\n",
    "import timeit\n",
    "import pytest"
   ]
  },
  {
   "cell_type": "markdown",
   "id": "6ee57637",
   "metadata": {},
   "source": [
    "In the next chunck, we define the maximum size of the matrices to be multiplied. It is a power of 2, so that the algorithm can be applied to $log_2(n)$ size of matrices."
   ]
  },
  {
   "cell_type": "code",
   "execution_count": 2,
   "id": "197631ae",
   "metadata": {},
   "outputs": [],
   "source": [
    "n=1024"
   ]
  },
  {
   "cell_type": "markdown",
   "id": "6dce5725",
   "metadata": {},
   "source": [
    "The first step will be generating the matrices. For all executions we will use the same matrices $A$ and $B$, both of order $n$, but will vary the range of the different loops of the algorithm, so that we can measure the performance for all orders we want."
   ]
  },
  {
   "cell_type": "code",
   "execution_count": 3,
   "id": "71a118f5",
   "metadata": {},
   "outputs": [],
   "source": [
    "A = [[random.random() for _ in range(n)] for _ in range(n)]\n",
    "B = [[random.random() for _ in range(n)] for _ in range(n)]\n",
    "C = [[0 for _ in range(n)] for _ in range(n)]"
   ]
  },
  {
   "cell_type": "markdown",
   "id": "f55e2336",
   "metadata": {},
   "source": [
    "Now, we create the function 'measure_cpu_usage', which will be used to measure the usage of different cores of the CPU. This function will be executed in a thread, so we can measure the usage of the CPU while the algorithm is running, in time intervals of 1 second."
   ]
  },
  {
   "cell_type": "code",
   "execution_count": 4,
   "id": "a1118a3f",
   "metadata": {},
   "outputs": [],
   "source": [
    "def measure_cpu_usage(cpu_queue):\n",
    "    \"\"\"\n",
    "    This function measures the cpu usage of the current process in\n",
    "    different cores and puts the result in the cpu_queue\n",
    "    :param cpu_queue: the queue to put the cpu usage in\n",
    "    :return: None\n",
    "    \"\"\"\n",
    "    while True:\n",
    "        cpu_percent = np.array(psutil.cpu_percent(interval=1, percpu=True))\n",
    "        cpu_queue.put(cpu_percent)"
   ]
  },
  {
   "cell_type": "code",
   "execution_count": null,
   "id": "ea65e140",
   "metadata": {},
   "outputs": [],
   "source": [
    "cpu_queue = Queue()     # Queue to put the cpu usage in"
   ]
  },
  {
   "cell_type": "code",
   "execution_count": null,
   "id": "9ee47e32",
   "metadata": {},
   "outputs": [],
   "source": [
    "cpu_thread = threading.Thread(target=measure_cpu_usage, args=(cpu_queue,))\n",
    "cpu_thread.daemon = True \n",
    "cpu_thread.start()"
   ]
  },
  {
   "cell_type": "markdown",
   "id": "5d393207",
   "metadata": {},
   "source": [
    "In the following chunck, we implement the matrix multiplication algorithm."
   ]
  },
  {
   "cell_type": "code",
   "execution_count": null,
   "id": "002d19b9",
   "metadata": {},
   "outputs": [],
   "source": [
    "def matrix_multiplication(A, B, n):\n",
    "    for i in range(n):\n",
    "        for j in range(n):\n",
    "            sum = 0\n",
    "            for k in range(n):\n",
    "                sum += A[i][k] * B[k][j]\n",
    "\n",
    "        C[i][j] = sum\n",
    "\n",
    "    return C"
   ]
  },
  {
   "cell_type": "code",
   "execution_count": null,
   "id": "45832a30",
   "metadata": {},
   "outputs": [],
   "source": [
    "for i in range(12):\n",
    "    matrix_multiplication(A, B, 2**i)"
   ]
  },
  {
   "cell_type": "code",
   "execution_count": null,
   "id": "ae4a64f2",
   "metadata": {},
   "outputs": [],
   "source": [
    "def test(A, B, n):\n",
    "    print('TEST')\n",
    "    i = 1\n",
    "    while i <= n:\n",
    "        print(\"n = \", 2**i)\n",
    "        matrix_multiplication(A, B, i)\n",
    "        i = 2*i"
   ]
  },
  {
   "cell_type": "markdown",
   "id": "37a02f31",
   "metadata": {},
   "source": [
    "Si ahora realizamos el benchmarking de la multiplicación de matrices, mediante el uso la librearía pytest-benchmark sobre el código de test.py, obtenemos los siguientes resultados:"
   ]
  },
  {
   "cell_type": "code",
   "execution_count": 12,
   "id": "4e0b0f62",
   "metadata": {},
   "outputs": [
    {
     "name": "stdout",
     "output_type": "stream",
     "text": [
      "============================= test session starts =============================\n",
      "platform win32 -- Python 3.9.13, pytest-7.4.2, pluggy-1.3.0 -- C:\\Users\\carde\\AppData\\Local\\Microsoft\\WindowsApps\\PythonSoftwareFoundation.Python.3.9_qbz5n2kfra8p0\\python.exe\n",
      "cachedir: .pytest_cache\n",
      "benchmark: 4.0.0 (defaults: timer=time.perf_counter disable_gc=False min_rounds=5 min_time=0.000005 max_time=1.0 calibration_precision=10 warmup=False warmup_iterations=100000)\n",
      "rootdir: c:\\Users\\carde\\Desktop\\ULPGC\\ciencia_e_ingenieria_de_datos\\tercero\\BigData\\matrices\\Python_Paper\\matrix_multiplication_python_performance\n",
      "plugins: anyio-3.6.2, benchmark-4.0.0\n",
      "collecting ... collected 5 items\n",
      "\n",
      "test.py::test_benchmark[2] PASSED                                        [ 20%]\n",
      "test.py::test_benchmark[4] PASSED                                        [ 40%]\n",
      "test.py::test_benchmark[8] PASSED                                        [ 60%]\n",
      "test.py::test_benchmark[16] PASSED                                       [ 80%]\n",
      "test.py::test_benchmark[32] PASSED                                       [100%]\n",
      "\n",
      "\n",
      "-------------------------------------------------------------------------------------------- benchmark: 5 tests -------------------------------------------------------------------------------------------\n",
      "Name (time in us)             Min                   Max                  Mean              StdDev                Median                 IQR            Outliers           OPS            Rounds  Iterations\n",
      "-----------------------------------------------------------------------------------------------------------------------------------------------------------------------------------------------------------\n",
      "test_benchmark[2]          1.4000 (1.0)         69.1000 (1.0)          1.6314 (1.0)        1.1151 (1.0)          1.5000 (1.0)        0.1000 (1.0)      576;1356  612,981.0761 (1.0)       40817           1\n",
      "test_benchmark[4]          5.6000 (4.00)       545.7000 (7.90)         7.0600 (4.33)       5.5745 (5.00)         6.6000 (4.40)       0.3000 (3.00)    1180;8549  141,643.8247 (0.23)      85471           1\n",
      "test_benchmark[8]         36.2000 (25.86)      161.8000 (2.34)        42.7222 (26.19)      6.3053 (5.65)        41.3000 (27.53)      2.2000 (22.00)   1163;2074   23,407.0069 (0.04)      20409           1\n",
      "test_benchmark[16]       237.1000 (169.36)   1,784.1000 (25.82)      303.1855 (185.85)    86.4250 (77.50)      280.4000 (186.93)    25.9500 (259.50)    226;406    3,298.3111 (0.01)       3304           1\n",
      "test_benchmark[32]     1,877.2000 (>1000.0)  4,564.8000 (66.06)    2,269.3181 (>1000.0)  350.4974 (314.31)   2,173.9000 (>1000.0)  204.3500 (>1000.0)     57;53      440.6610 (0.00)        469           1\n",
      "-----------------------------------------------------------------------------------------------------------------------------------------------------------------------------------------------------------\n",
      "\n",
      "Legend:\n",
      "  Outliers: 1 Standard Deviation from Mean; 1.5 IQR (InterQuartile Range) from 1st Quartile and 3rd Quartile.\n",
      "  OPS: Operations Per Second, computed as 1 / Mean\n",
      "============================== 5 passed in 5.43s ==============================\n"
     ]
    }
   ],
   "source": [
    "!pytest -v test.py"
   ]
  },
  {
   "cell_type": "markdown",
   "id": "653f872e",
   "metadata": {},
   "source": [
    "## **Results**"
   ]
  },
  {
   "cell_type": "markdown",
   "id": "6e8c11f6",
   "metadata": {},
   "source": [
    "In this section, we show the measures of time and CPU usage obtained for different orders of the matrices. "
   ]
  },
  {
   "cell_type": "markdown",
   "id": "978e0fd3",
   "metadata": {},
   "source": [
    "### Execution **Time**"
   ]
  },
  {
   "cell_type": "markdown",
   "id": "51d72966",
   "metadata": {},
   "source": [
    "Here, we introduce the obtained results for the other languages."
   ]
  },
  {
   "cell_type": "code",
   "execution_count": null,
   "id": "faf6362a",
   "metadata": {},
   "outputs": [],
   "source": [
    "x = [r'$2^0$', r'$2^1$', r'$2^2$', r'$2^3$', r'$2^4$', r'$2^5$', r'$2^6$', r'$2^7$', r'$2^8$', r'$2^9$', r'$2^{10}$', r'$2^{11}$']\n",
    "t_python = [0, 0.0, 0.0, 0.0010111331939697266, 0.0014104843139648438, 0.0063686370849609375, 0.04304695129394531, 0.4458949565887451, 3.8345444202423096, 30.988054990768433, 283.0610454082489, 1200]\n",
    "t_java = [0, 0, 0, 0, 0, 0, 0, 0.016, 0.047, 0.188, 2.061, 64.805]\n",
    "t_c = [0.000155,0.000000,0.000001,0.000002,0.000016,0.000486,0.002825,0.008100,0.068164,0.471069,3.968524,45.999192]\n",
    "t_rust = [0.01419,0.01399,0.01535,0.01536,0.014907,0.0167,0.021,0.08575,0.579,4.628,47.697,409.3796]\n",
    "t_nodejs = [0, 0, 0, 0, 0, 0.002, 0.002, 0.002, 0.028, 0.268, 1.988, 54.346]"
   ]
  },
  {
   "cell_type": "markdown",
   "id": "0a6e2643",
   "metadata": {},
   "source": [
    "ALL LANGUAGES COMPARISON CHART:"
   ]
  },
  {
   "cell_type": "code",
   "execution_count": null,
   "id": "71bc2fcb",
   "metadata": {},
   "outputs": [],
   "source": [
    "plt.plot(x, t_python)\n",
    "plt.plot(x, t_java)\n",
    "plt.plot(x, t_c)\n",
    "plt.plot(x, t_rust)\n",
    "plt.plot(x, t_nodejs)\n",
    "\n",
    "plt.xticks(x[::2])\n",
    "plt.tick_params(axis='both', which='major', labelsize=11)\n",
    "\n",
    "plt.title('Execution Time (seconds)', fontsize=17)\n",
    "plt.xlabel('Matrix Order', fontsize=14)\n",
    "\n",
    "plt.legend(['Python', 'Java', 'C', 'Rust', 'NodeJS'], prop={'size': 14})\n",
    "\n",
    "plt.margins(0)\n",
    "\n",
    "plt.gca().spines['bottom'].set_color('0.5')\n",
    "plt.gca().spines['top'].set_color('0.5')\n",
    "plt.gca().spines['left'].set_color('0.5')\n",
    "plt.gca().spines['right'].set_color('0.5')\n",
    "\n",
    "plt.savefig('top-5.jpg')\n",
    "plt.show()"
   ]
  },
  {
   "cell_type": "markdown",
   "id": "94bf7e3e",
   "metadata": {},
   "source": [
    "TOP 3 LANGUAGES COMPARISON CHART:"
   ]
  },
  {
   "cell_type": "code",
   "execution_count": null,
   "id": "12ea761d",
   "metadata": {},
   "outputs": [],
   "source": [
    "plt.plot(x[8:], t_java[8:])\n",
    "plt.plot(x[8:], t_c[8:])\n",
    "plt.plot(x[8:], t_nodejs[8:])\n",
    "\n",
    "plt.tick_params(axis='both', which='major', labelsize=11)\n",
    "\n",
    "plt.title('Execution Time (seconds)', fontsize=17)\n",
    "plt.xlabel('Matrix Order', fontsize=14)\n",
    "\n",
    "plt.legend(['Java', 'C', 'NodeJS'], prop={'size': 14})\n",
    "\n",
    "plt.margins(0)\n",
    "\n",
    "plt.gca().spines['bottom'].set_color('0.5')\n",
    "plt.gca().spines['top'].set_color('0.5')\n",
    "plt.gca().spines['left'].set_color('0.5')\n",
    "plt.gca().spines['right'].set_color('0.5')\n",
    "\n",
    "plt.savefig('top-3.jpg')\n",
    "plt.show()"
   ]
  },
  {
   "cell_type": "markdown",
   "id": "5baaf20b",
   "metadata": {},
   "source": [
    "### **CPU** Usage"
   ]
  },
  {
   "cell_type": "code",
   "execution_count": null,
   "id": "13816b16",
   "metadata": {},
   "outputs": [],
   "source": [
    "cpu_list = list(cpu_queue.queue)"
   ]
  },
  {
   "cell_type": "code",
   "execution_count": null,
   "id": "8acea520",
   "metadata": {},
   "outputs": [],
   "source": [
    "cpu_mean = np.mean(cpu_list, axis=0)\n",
    "cpu_mean\n",
    "\n",
    "import matplotlib.pyplot as plt\n",
    "plt.bar(range(len(cpu_mean)), cpu_mean)\n",
    "\n",
    "plt.xticks(range(len(cpu_mean)), range(len(cpu_mean)))\n",
    "plt.tick_params(top=False, bottom=False, left=False, right=False)\n",
    "\n",
    "plt.title('CPU usage (Python)', fontsize=16)\n",
    "plt.xlabel('CPU', fontsize=14)\n",
    "plt.ylabel('Usage (%)', fontsize=14)\n",
    "\n",
    "for spine in plt.gca().spines.values():\n",
    "    spine.set_color('0.5')\n",
    "\n",
    "plt.grid(axis='y', color='1')\n",
    "\n",
    "plt.savefig('cpu_usage.png')\n",
    "plt.show()"
   ]
  },
  {
   "cell_type": "code",
   "execution_count": null,
   "id": "620e7e83",
   "metadata": {},
   "outputs": [],
   "source": [
    "cpu_mean"
   ]
  },
  {
   "cell_type": "code",
   "execution_count": null,
   "id": "2f6bb191",
   "metadata": {},
   "outputs": [],
   "source": [
    "cpu_mean = [15.533093793791142, 19.46184627821745, 14.224461209275027, 21.64901170602905, 25.546293343314147, 15.197992412433262, 14.57920844345248, 13.56883258222577, 10.674215790473998, 12.928305346397432, 5.903352761861194, 14.940431438633095, 23.925703790279236, 5.181195320104931, 16.802639125518613, 10.82577067914602]\n",
    "\n",
    "import matplotlib.pyplot as plt\n",
    "plt.bar(range(len(cpu_mean)), cpu_mean)\n",
    "\n",
    "plt.xticks(range(len(cpu_mean)), range(len(cpu_mean)))\n",
    "plt.tick_params(top=False, bottom=False, left=False, right=False)\n",
    "\n",
    "plt.title('CPU usage (Java)', fontsize=16)\n",
    "plt.xlabel('CPU', fontsize=14)\n",
    "plt.ylabel('Usage (%)', fontsize=14)\n",
    "\n",
    "for spine in plt.gca().spines.values():\n",
    "    spine.set_color('0.5')\n",
    "\n",
    "plt.grid(axis='y', color='1')\n",
    "\n",
    "plt.savefig('cpu_usage_java.png')\n",
    "plt.show()"
   ]
  }
 ],
 "metadata": {
  "kernelspec": {
   "display_name": "Python 3",
   "language": "python",
   "name": "python3"
  },
  "language_info": {
   "codemirror_mode": {
    "name": "ipython",
    "version": 3
   },
   "file_extension": ".py",
   "mimetype": "text/x-python",
   "name": "python",
   "nbconvert_exporter": "python",
   "pygments_lexer": "ipython3",
   "version": "3.9.13"
  }
 },
 "nbformat": 4,
 "nbformat_minor": 5
}
